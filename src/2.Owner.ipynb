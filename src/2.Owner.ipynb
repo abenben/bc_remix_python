{
 "cells": [
  {
   "cell_type": "code",
   "execution_count": 1,
   "metadata": {},
   "outputs": [],
   "source": [
    "from web3 import Web3"
   ]
  },
  {
   "cell_type": "code",
   "execution_count": 2,
   "metadata": {},
   "outputs": [],
   "source": [
    "account_1 = '0xb76Ae035eA73f135581d7BC157636b111e9aB444'\n",
    "account_2 = '0x8b65DdEF78FcE28C316801e11706651C5C83f6D3'"
   ]
  },
  {
   "cell_type": "code",
   "execution_count": 3,
   "metadata": {},
   "outputs": [],
   "source": [
    "private_key_1 = '0xfff207c2b50547768189dd664172a8bde2bc7c3fc14a10b933209abc0a50d1c7'\n",
    "private_key_2 = '0x5883e565aa95d68721789a30a2f20d18639dcd83c9ebf5ebc6d88d8e130c7e55'"
   ]
  },
  {
   "cell_type": "code",
   "execution_count": 4,
   "metadata": {},
   "outputs": [],
   "source": [
    "w3 = Web3(Web3.HTTPProvider('http://127.0.0.1:7545'))"
   ]
  },
  {
   "cell_type": "code",
   "execution_count": 5,
   "metadata": {},
   "outputs": [
    {
     "data": {
      "text/plain": [
       "True"
      ]
     },
     "execution_count": 5,
     "metadata": {},
     "output_type": "execute_result"
    }
   ],
   "source": [
    "w3.isConnected()"
   ]
  },
  {
   "cell_type": "code",
   "execution_count": 6,
   "metadata": {},
   "outputs": [],
   "source": [
    "abi='''\n",
    "[\n",
    "\t{\n",
    "\t\t\"inputs\": [\n",
    "\t\t\t{\n",
    "\t\t\t\t\"internalType\": \"address\",\n",
    "\t\t\t\t\"name\": \"newOwner\",\n",
    "\t\t\t\t\"type\": \"address\"\n",
    "\t\t\t}\n",
    "\t\t],\n",
    "\t\t\"name\": \"changeOwner\",\n",
    "\t\t\"outputs\": [],\n",
    "\t\t\"stateMutability\": \"nonpayable\",\n",
    "\t\t\"type\": \"function\"\n",
    "\t},\n",
    "\t{\n",
    "\t\t\"inputs\": [],\n",
    "\t\t\"stateMutability\": \"nonpayable\",\n",
    "\t\t\"type\": \"constructor\"\n",
    "\t},\n",
    "\t{\n",
    "\t\t\"anonymous\": false,\n",
    "\t\t\"inputs\": [\n",
    "\t\t\t{\n",
    "\t\t\t\t\"indexed\": true,\n",
    "\t\t\t\t\"internalType\": \"address\",\n",
    "\t\t\t\t\"name\": \"oldOwner\",\n",
    "\t\t\t\t\"type\": \"address\"\n",
    "\t\t\t},\n",
    "\t\t\t{\n",
    "\t\t\t\t\"indexed\": true,\n",
    "\t\t\t\t\"internalType\": \"address\",\n",
    "\t\t\t\t\"name\": \"newOwner\",\n",
    "\t\t\t\t\"type\": \"address\"\n",
    "\t\t\t}\n",
    "\t\t],\n",
    "\t\t\"name\": \"OwnerSet\",\n",
    "\t\t\"type\": \"event\"\n",
    "\t},\n",
    "\t{\n",
    "\t\t\"inputs\": [],\n",
    "\t\t\"name\": \"getOwner\",\n",
    "\t\t\"outputs\": [\n",
    "\t\t\t{\n",
    "\t\t\t\t\"internalType\": \"address\",\n",
    "\t\t\t\t\"name\": \"\",\n",
    "\t\t\t\t\"type\": \"address\"\n",
    "\t\t\t}\n",
    "\t\t],\n",
    "\t\t\"stateMutability\": \"view\",\n",
    "\t\t\"type\": \"function\"\n",
    "\t}\n",
    "]\n",
    "'''"
   ]
  },
  {
   "cell_type": "code",
   "execution_count": 7,
   "metadata": {},
   "outputs": [],
   "source": [
    "contract_address='0x92839c69cbd41f80918B389CA21d28B1Fd26D8B9'"
   ]
  },
  {
   "cell_type": "code",
   "execution_count": 8,
   "metadata": {},
   "outputs": [],
   "source": [
    "contract_instace = w3.eth.contract(address=contract_address,abi=abi)"
   ]
  },
  {
   "cell_type": "code",
   "execution_count": 9,
   "metadata": {},
   "outputs": [
    {
     "data": {
      "text/plain": [
       "'0xb76Ae035eA73f135581d7BC157636b111e9aB444'"
      ]
     },
     "execution_count": 9,
     "metadata": {},
     "output_type": "execute_result"
    }
   ],
   "source": [
    "contract_instace.functions.getOwner().call()"
   ]
  },
  {
   "cell_type": "code",
   "execution_count": 10,
   "metadata": {},
   "outputs": [
    {
     "data": {
      "text/plain": [
       "HexBytes('0xf5d6f549c42891b5fe731e6abdc6f55e9a096b5bb54fb24202ff18c4ee4c3063')"
      ]
     },
     "execution_count": 10,
     "metadata": {},
     "output_type": "execute_result"
    }
   ],
   "source": [
    "txn = contract_instace.functions.changeOwner(account_2).buildTransaction({\n",
    "    'gas': 70000,\n",
    "    'gasPrice': w3.toWei('1', 'gwei'),\n",
    "    'from': account_1,\n",
    "    'nonce': w3.eth.getTransactionCount(account_1),\n",
    "})\n",
    "signed_txn = w3.eth.account.signTransaction(txn, private_key=private_key_1)\n",
    "w3.eth.sendRawTransaction(signed_txn.rawTransaction)"
   ]
  },
  {
   "cell_type": "code",
   "execution_count": 11,
   "metadata": {},
   "outputs": [
    {
     "data": {
      "text/plain": [
       "'0x8b65DdEF78FcE28C316801e11706651C5C83f6D3'"
      ]
     },
     "execution_count": 11,
     "metadata": {},
     "output_type": "execute_result"
    }
   ],
   "source": [
    "contract_instace.functions.getOwner().call()"
   ]
  },
  {
   "cell_type": "code",
   "execution_count": 12,
   "metadata": {},
   "outputs": [
    {
     "ename": "ValueError",
     "evalue": "{'message': 'VM Exception while processing transaction: revert Caller is not owner', 'code': -32000, 'data': {'0x0e4484b8fac65a23fde67326df5b583a994624e95dd8f23166cb64807fb0a2fa': {'error': 'revert', 'program_counter': 300, 'return': '0x08c379a00000000000000000000000000000000000000000000000000000000000000020000000000000000000000000000000000000000000000000000000000000001343616c6c6572206973206e6f74206f776e657200000000000000000000000000', 'reason': 'Caller is not owner'}, 'stack': 'RuntimeError: VM Exception while processing transaction: revert Caller is not owner\\n    at Function.RuntimeError.fromResults (/Applications/Ganache.app/Contents/Resources/static/node/node_modules/ganache-core/lib/utils/runtimeerror.js:94:13)\\n    at BlockchainDouble.processBlock (/Applications/Ganache.app/Contents/Resources/static/node/node_modules/ganache-core/lib/blockchain_double.js:627:24)\\n    at runMicrotasks (<anonymous>)\\n    at processTicksAndRejections (internal/process/task_queues.js:93:5)', 'name': 'RuntimeError'}}",
     "output_type": "error",
     "traceback": [
      "\u001b[0;31m---------------------------------------------------------------------------\u001b[0m",
      "\u001b[0;31mValueError\u001b[0m                                Traceback (most recent call last)",
      "Cell \u001b[0;32mIn[12], line 8\u001b[0m\n\u001b[1;32m      1\u001b[0m txn \u001b[38;5;241m=\u001b[39m contract_instace\u001b[38;5;241m.\u001b[39mfunctions\u001b[38;5;241m.\u001b[39mchangeOwner(account_1)\u001b[38;5;241m.\u001b[39mbuildTransaction({\n\u001b[1;32m      2\u001b[0m     \u001b[38;5;124m'\u001b[39m\u001b[38;5;124mgas\u001b[39m\u001b[38;5;124m'\u001b[39m: \u001b[38;5;241m70000\u001b[39m,\n\u001b[1;32m      3\u001b[0m     \u001b[38;5;124m'\u001b[39m\u001b[38;5;124mgasPrice\u001b[39m\u001b[38;5;124m'\u001b[39m: w3\u001b[38;5;241m.\u001b[39mtoWei(\u001b[38;5;124m'\u001b[39m\u001b[38;5;124m1\u001b[39m\u001b[38;5;124m'\u001b[39m, \u001b[38;5;124m'\u001b[39m\u001b[38;5;124mgwei\u001b[39m\u001b[38;5;124m'\u001b[39m),\n\u001b[1;32m      4\u001b[0m     \u001b[38;5;124m'\u001b[39m\u001b[38;5;124mfrom\u001b[39m\u001b[38;5;124m'\u001b[39m: account_1,\n\u001b[1;32m      5\u001b[0m     \u001b[38;5;124m'\u001b[39m\u001b[38;5;124mnonce\u001b[39m\u001b[38;5;124m'\u001b[39m: w3\u001b[38;5;241m.\u001b[39meth\u001b[38;5;241m.\u001b[39mgetTransactionCount(account_1),\n\u001b[1;32m      6\u001b[0m })\n\u001b[1;32m      7\u001b[0m signed_txn \u001b[38;5;241m=\u001b[39m w3\u001b[38;5;241m.\u001b[39meth\u001b[38;5;241m.\u001b[39maccount\u001b[38;5;241m.\u001b[39msignTransaction(txn, private_key\u001b[38;5;241m=\u001b[39mprivate_key_1)\n\u001b[0;32m----> 8\u001b[0m \u001b[43mw3\u001b[49m\u001b[38;5;241;43m.\u001b[39;49m\u001b[43meth\u001b[49m\u001b[38;5;241;43m.\u001b[39;49m\u001b[43msendRawTransaction\u001b[49m\u001b[43m(\u001b[49m\u001b[43msigned_txn\u001b[49m\u001b[38;5;241;43m.\u001b[39;49m\u001b[43mrawTransaction\u001b[49m\u001b[43m)\u001b[49m\n",
      "File \u001b[0;32m~/PycharmProjects/bc_remix_python/venv/lib/python3.10/site-packages/web3/eth.py:831\u001b[0m, in \u001b[0;36mEth.send_raw_transaction\u001b[0;34m(self, transaction)\u001b[0m\n\u001b[1;32m    830\u001b[0m \u001b[38;5;28;01mdef\u001b[39;00m \u001b[38;5;21msend_raw_transaction\u001b[39m(\u001b[38;5;28mself\u001b[39m, transaction: Union[HexStr, \u001b[38;5;28mbytes\u001b[39m]) \u001b[38;5;241m-\u001b[39m\u001b[38;5;241m>\u001b[39m HexBytes:\n\u001b[0;32m--> 831\u001b[0m     \u001b[38;5;28;01mreturn\u001b[39;00m \u001b[38;5;28;43mself\u001b[39;49m\u001b[38;5;241;43m.\u001b[39;49m\u001b[43m_send_raw_transaction\u001b[49m\u001b[43m(\u001b[49m\u001b[43mtransaction\u001b[49m\u001b[43m)\u001b[49m\n",
      "File \u001b[0;32m~/PycharmProjects/bc_remix_python/venv/lib/python3.10/site-packages/web3/module.py:57\u001b[0m, in \u001b[0;36mretrieve_blocking_method_call_fn.<locals>.caller\u001b[0;34m(*args, **kwargs)\u001b[0m\n\u001b[1;32m     55\u001b[0m     \u001b[38;5;28;01mreturn\u001b[39;00m LogFilter(eth_module\u001b[38;5;241m=\u001b[39mmodule, filter_id\u001b[38;5;241m=\u001b[39merr\u001b[38;5;241m.\u001b[39mfilter_id)\n\u001b[1;32m     56\u001b[0m result_formatters, error_formatters, null_result_formatters \u001b[38;5;241m=\u001b[39m response_formatters\n\u001b[0;32m---> 57\u001b[0m result \u001b[38;5;241m=\u001b[39m \u001b[43mw3\u001b[49m\u001b[38;5;241;43m.\u001b[39;49m\u001b[43mmanager\u001b[49m\u001b[38;5;241;43m.\u001b[39;49m\u001b[43mrequest_blocking\u001b[49m\u001b[43m(\u001b[49m\u001b[43mmethod_str\u001b[49m\u001b[43m,\u001b[49m\n\u001b[1;32m     58\u001b[0m \u001b[43m                                     \u001b[49m\u001b[43mparams\u001b[49m\u001b[43m,\u001b[49m\n\u001b[1;32m     59\u001b[0m \u001b[43m                                     \u001b[49m\u001b[43merror_formatters\u001b[49m\u001b[43m,\u001b[49m\n\u001b[1;32m     60\u001b[0m \u001b[43m                                     \u001b[49m\u001b[43mnull_result_formatters\u001b[49m\u001b[43m)\u001b[49m\n\u001b[1;32m     61\u001b[0m \u001b[38;5;28;01mreturn\u001b[39;00m apply_result_formatters(result_formatters, result)\n",
      "File \u001b[0;32m~/PycharmProjects/bc_remix_python/venv/lib/python3.10/site-packages/web3/manager.py:198\u001b[0m, in \u001b[0;36mRequestManager.request_blocking\u001b[0;34m(self, method, params, error_formatters, null_result_formatters)\u001b[0m\n\u001b[1;32m    194\u001b[0m \u001b[38;5;124;03m\"\"\"\u001b[39;00m\n\u001b[1;32m    195\u001b[0m \u001b[38;5;124;03mMake a synchronous request using the provider\u001b[39;00m\n\u001b[1;32m    196\u001b[0m \u001b[38;5;124;03m\"\"\"\u001b[39;00m\n\u001b[1;32m    197\u001b[0m response \u001b[38;5;241m=\u001b[39m \u001b[38;5;28mself\u001b[39m\u001b[38;5;241m.\u001b[39m_make_request(method, params)\n\u001b[0;32m--> 198\u001b[0m \u001b[38;5;28;01mreturn\u001b[39;00m \u001b[38;5;28;43mself\u001b[39;49m\u001b[38;5;241;43m.\u001b[39;49m\u001b[43mformatted_response\u001b[49m\u001b[43m(\u001b[49m\u001b[43mresponse\u001b[49m\u001b[43m,\u001b[49m\n\u001b[1;32m    199\u001b[0m \u001b[43m                               \u001b[49m\u001b[43mparams\u001b[49m\u001b[43m,\u001b[49m\n\u001b[1;32m    200\u001b[0m \u001b[43m                               \u001b[49m\u001b[43merror_formatters\u001b[49m\u001b[43m,\u001b[49m\n\u001b[1;32m    201\u001b[0m \u001b[43m                               \u001b[49m\u001b[43mnull_result_formatters\u001b[49m\u001b[43m)\u001b[49m\n",
      "File \u001b[0;32m~/PycharmProjects/bc_remix_python/venv/lib/python3.10/site-packages/web3/manager.py:171\u001b[0m, in \u001b[0;36mRequestManager.formatted_response\u001b[0;34m(response, params, error_formatters, null_result_formatters)\u001b[0m\n\u001b[1;32m    169\u001b[0m \u001b[38;5;28;01mif\u001b[39;00m \u001b[38;5;124m\"\u001b[39m\u001b[38;5;124merror\u001b[39m\u001b[38;5;124m\"\u001b[39m \u001b[38;5;129;01min\u001b[39;00m response:\n\u001b[1;32m    170\u001b[0m     apply_error_formatters(error_formatters, response)\n\u001b[0;32m--> 171\u001b[0m     \u001b[38;5;28;01mraise\u001b[39;00m \u001b[38;5;167;01mValueError\u001b[39;00m(response[\u001b[38;5;124m\"\u001b[39m\u001b[38;5;124merror\u001b[39m\u001b[38;5;124m\"\u001b[39m])\n\u001b[1;32m    172\u001b[0m \u001b[38;5;66;03m# NULL_RESPONSES includes None, so return False here as the default\u001b[39;00m\n\u001b[1;32m    173\u001b[0m \u001b[38;5;66;03m# so we don't apply the null_result_formatters if there is no 'result' key\u001b[39;00m\n\u001b[1;32m    174\u001b[0m \u001b[38;5;28;01melif\u001b[39;00m response\u001b[38;5;241m.\u001b[39mget(\u001b[38;5;124m'\u001b[39m\u001b[38;5;124mresult\u001b[39m\u001b[38;5;124m'\u001b[39m, \u001b[38;5;28;01mFalse\u001b[39;00m) \u001b[38;5;129;01min\u001b[39;00m NULL_RESPONSES:\n\u001b[1;32m    175\u001b[0m     \u001b[38;5;66;03m# null_result_formatters raise either a BlockNotFound\u001b[39;00m\n\u001b[1;32m    176\u001b[0m     \u001b[38;5;66;03m# or a TransactionNotFound error, depending on the method called\u001b[39;00m\n",
      "\u001b[0;31mValueError\u001b[0m: {'message': 'VM Exception while processing transaction: revert Caller is not owner', 'code': -32000, 'data': {'0x0e4484b8fac65a23fde67326df5b583a994624e95dd8f23166cb64807fb0a2fa': {'error': 'revert', 'program_counter': 300, 'return': '0x08c379a00000000000000000000000000000000000000000000000000000000000000020000000000000000000000000000000000000000000000000000000000000001343616c6c6572206973206e6f74206f776e657200000000000000000000000000', 'reason': 'Caller is not owner'}, 'stack': 'RuntimeError: VM Exception while processing transaction: revert Caller is not owner\\n    at Function.RuntimeError.fromResults (/Applications/Ganache.app/Contents/Resources/static/node/node_modules/ganache-core/lib/utils/runtimeerror.js:94:13)\\n    at BlockchainDouble.processBlock (/Applications/Ganache.app/Contents/Resources/static/node/node_modules/ganache-core/lib/blockchain_double.js:627:24)\\n    at runMicrotasks (<anonymous>)\\n    at processTicksAndRejections (internal/process/task_queues.js:93:5)', 'name': 'RuntimeError'}}"
     ]
    }
   ],
   "source": [
    "txn = contract_instace.functions.changeOwner(account_1).buildTransaction({\n",
    "    'gas': 70000,\n",
    "    'gasPrice': w3.toWei('1', 'gwei'),\n",
    "    'from': account_1,\n",
    "    'nonce': w3.eth.getTransactionCount(account_1),\n",
    "})\n",
    "signed_txn = w3.eth.account.signTransaction(txn, private_key=private_key_1)\n",
    "w3.eth.sendRawTransaction(signed_txn.rawTransaction)"
   ]
  },
  {
   "cell_type": "code",
   "execution_count": 13,
   "metadata": {},
   "outputs": [
    {
     "data": {
      "text/plain": [
       "HexBytes('0x7493553d231da5f2dd5315728768d2afca4fa7af02badf04c8e12c6b77bc1f5f')"
      ]
     },
     "execution_count": 13,
     "metadata": {},
     "output_type": "execute_result"
    }
   ],
   "source": [
    "txn = contract_instace.functions.changeOwner(account_1).buildTransaction({\n",
    "    'gas': 70000,\n",
    "    'gasPrice': w3.toWei('1', 'gwei'),\n",
    "    'from': account_2,\n",
    "    'nonce': w3.eth.getTransactionCount(account_2),\n",
    "})\n",
    "signed_txn = w3.eth.account.signTransaction(txn, private_key=private_key_2)\n",
    "w3.eth.sendRawTransaction(signed_txn.rawTransaction)"
   ]
  },
  {
   "cell_type": "code",
   "execution_count": 14,
   "metadata": {},
   "outputs": [
    {
     "data": {
      "text/plain": [
       "'0xb76Ae035eA73f135581d7BC157636b111e9aB444'"
      ]
     },
     "execution_count": 14,
     "metadata": {},
     "output_type": "execute_result"
    }
   ],
   "source": [
    "contract_instace.functions.getOwner().call()"
   ]
  },
  {
   "cell_type": "code",
   "execution_count": null,
   "metadata": {},
   "outputs": [],
   "source": []
  }
 ],
 "metadata": {
  "kernelspec": {
   "display_name": "Python 3 (ipykernel)",
   "language": "python",
   "name": "python3"
  },
  "language_info": {
   "codemirror_mode": {
    "name": "ipython",
    "version": 3
   },
   "file_extension": ".py",
   "mimetype": "text/x-python",
   "name": "python",
   "nbconvert_exporter": "python",
   "pygments_lexer": "ipython3",
   "version": "3.10.7"
  }
 },
 "nbformat": 4,
 "nbformat_minor": 1
}
